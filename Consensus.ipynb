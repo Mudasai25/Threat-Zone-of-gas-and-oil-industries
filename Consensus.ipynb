{
  "nbformat": 4,
  "nbformat_minor": 0,
  "metadata": {
    "colab": {
      "provenance": []
    },
    "kernelspec": {
      "name": "python3",
      "display_name": "Python 3"
    },
    "language_info": {
      "name": "python"
    }
  },
  "cells": [
    {
      "cell_type": "code",
      "source": [
        "WEATHER_API_KEY='52c94fc20a582a91a0994782b8ca2acc'"
      ],
      "metadata": {
        "id": "wv4oI9Q_v1x3"
      },
      "execution_count": null,
      "outputs": []
    },
    {
      "cell_type": "code",
      "source": [
        "'https://api.openweathermap.org/data/2.5/weather?lat={lat}&lon={lon}&appid={API key}'"
      ],
      "metadata": {
        "colab": {
          "base_uri": "https://localhost:8080/",
          "height": 35
        },
        "id": "fhS67X0-wIkU",
        "outputId": "93dc1305-bd47-40e1-cce4-00b88fc2b1c4"
      },
      "execution_count": null,
      "outputs": [
        {
          "output_type": "execute_result",
          "data": {
            "text/plain": [
              "'https://api.openweathermap.org/data/2.5/weather?lat={lat}&lon={lon}&appid={API key}'"
            ],
            "application/vnd.google.colaboratory.intrinsic+json": {
              "type": "string"
            }
          },
          "metadata": {},
          "execution_count": 2
        }
      ]
    },
    {
      "cell_type": "code",
      "source": [
        "import requests\n",
        "import pandas as pd\n",
        "import numpy as np"
      ],
      "metadata": {
        "id": "DJUPtiEWwLnN"
      },
      "execution_count": null,
      "outputs": []
    },
    {
      "cell_type": "code",
      "source": [
        "from google.colab import files\n",
        "upload=files.upload()"
      ],
      "metadata": {
        "colab": {
          "base_uri": "https://localhost:8080/",
          "height": 73
        },
        "id": "tb7Zkh_MwQ81",
        "outputId": "9a8c0b6d-2e81-4ac2-ee86-0c45a5acdfb2"
      },
      "execution_count": null,
      "outputs": [
        {
          "output_type": "display_data",
          "data": {
            "text/plain": [
              "<IPython.core.display.HTML object>"
            ],
            "text/html": [
              "\n",
              "     <input type=\"file\" id=\"files-65f8d596-fd50-4ff1-bba0-347645e2dcbb\" name=\"files[]\" multiple disabled\n",
              "        style=\"border:none\" />\n",
              "     <output id=\"result-65f8d596-fd50-4ff1-bba0-347645e2dcbb\">\n",
              "      Upload widget is only available when the cell has been executed in the\n",
              "      current browser session. Please rerun this cell to enable.\n",
              "      </output>\n",
              "      <script>// Copyright 2017 Google LLC\n",
              "//\n",
              "// Licensed under the Apache License, Version 2.0 (the \"License\");\n",
              "// you may not use this file except in compliance with the License.\n",
              "// You may obtain a copy of the License at\n",
              "//\n",
              "//      http://www.apache.org/licenses/LICENSE-2.0\n",
              "//\n",
              "// Unless required by applicable law or agreed to in writing, software\n",
              "// distributed under the License is distributed on an \"AS IS\" BASIS,\n",
              "// WITHOUT WARRANTIES OR CONDITIONS OF ANY KIND, either express or implied.\n",
              "// See the License for the specific language governing permissions and\n",
              "// limitations under the License.\n",
              "\n",
              "/**\n",
              " * @fileoverview Helpers for google.colab Python module.\n",
              " */\n",
              "(function(scope) {\n",
              "function span(text, styleAttributes = {}) {\n",
              "  const element = document.createElement('span');\n",
              "  element.textContent = text;\n",
              "  for (const key of Object.keys(styleAttributes)) {\n",
              "    element.style[key] = styleAttributes[key];\n",
              "  }\n",
              "  return element;\n",
              "}\n",
              "\n",
              "// Max number of bytes which will be uploaded at a time.\n",
              "const MAX_PAYLOAD_SIZE = 100 * 1024;\n",
              "\n",
              "function _uploadFiles(inputId, outputId) {\n",
              "  const steps = uploadFilesStep(inputId, outputId);\n",
              "  const outputElement = document.getElementById(outputId);\n",
              "  // Cache steps on the outputElement to make it available for the next call\n",
              "  // to uploadFilesContinue from Python.\n",
              "  outputElement.steps = steps;\n",
              "\n",
              "  return _uploadFilesContinue(outputId);\n",
              "}\n",
              "\n",
              "// This is roughly an async generator (not supported in the browser yet),\n",
              "// where there are multiple asynchronous steps and the Python side is going\n",
              "// to poll for completion of each step.\n",
              "// This uses a Promise to block the python side on completion of each step,\n",
              "// then passes the result of the previous step as the input to the next step.\n",
              "function _uploadFilesContinue(outputId) {\n",
              "  const outputElement = document.getElementById(outputId);\n",
              "  const steps = outputElement.steps;\n",
              "\n",
              "  const next = steps.next(outputElement.lastPromiseValue);\n",
              "  return Promise.resolve(next.value.promise).then((value) => {\n",
              "    // Cache the last promise value to make it available to the next\n",
              "    // step of the generator.\n",
              "    outputElement.lastPromiseValue = value;\n",
              "    return next.value.response;\n",
              "  });\n",
              "}\n",
              "\n",
              "/**\n",
              " * Generator function which is called between each async step of the upload\n",
              " * process.\n",
              " * @param {string} inputId Element ID of the input file picker element.\n",
              " * @param {string} outputId Element ID of the output display.\n",
              " * @return {!Iterable<!Object>} Iterable of next steps.\n",
              " */\n",
              "function* uploadFilesStep(inputId, outputId) {\n",
              "  const inputElement = document.getElementById(inputId);\n",
              "  inputElement.disabled = false;\n",
              "\n",
              "  const outputElement = document.getElementById(outputId);\n",
              "  outputElement.innerHTML = '';\n",
              "\n",
              "  const pickedPromise = new Promise((resolve) => {\n",
              "    inputElement.addEventListener('change', (e) => {\n",
              "      resolve(e.target.files);\n",
              "    });\n",
              "  });\n",
              "\n",
              "  const cancel = document.createElement('button');\n",
              "  inputElement.parentElement.appendChild(cancel);\n",
              "  cancel.textContent = 'Cancel upload';\n",
              "  const cancelPromise = new Promise((resolve) => {\n",
              "    cancel.onclick = () => {\n",
              "      resolve(null);\n",
              "    };\n",
              "  });\n",
              "\n",
              "  // Wait for the user to pick the files.\n",
              "  const files = yield {\n",
              "    promise: Promise.race([pickedPromise, cancelPromise]),\n",
              "    response: {\n",
              "      action: 'starting',\n",
              "    }\n",
              "  };\n",
              "\n",
              "  cancel.remove();\n",
              "\n",
              "  // Disable the input element since further picks are not allowed.\n",
              "  inputElement.disabled = true;\n",
              "\n",
              "  if (!files) {\n",
              "    return {\n",
              "      response: {\n",
              "        action: 'complete',\n",
              "      }\n",
              "    };\n",
              "  }\n",
              "\n",
              "  for (const file of files) {\n",
              "    const li = document.createElement('li');\n",
              "    li.append(span(file.name, {fontWeight: 'bold'}));\n",
              "    li.append(span(\n",
              "        `(${file.type || 'n/a'}) - ${file.size} bytes, ` +\n",
              "        `last modified: ${\n",
              "            file.lastModifiedDate ? file.lastModifiedDate.toLocaleDateString() :\n",
              "                                    'n/a'} - `));\n",
              "    const percent = span('0% done');\n",
              "    li.appendChild(percent);\n",
              "\n",
              "    outputElement.appendChild(li);\n",
              "\n",
              "    const fileDataPromise = new Promise((resolve) => {\n",
              "      const reader = new FileReader();\n",
              "      reader.onload = (e) => {\n",
              "        resolve(e.target.result);\n",
              "      };\n",
              "      reader.readAsArrayBuffer(file);\n",
              "    });\n",
              "    // Wait for the data to be ready.\n",
              "    let fileData = yield {\n",
              "      promise: fileDataPromise,\n",
              "      response: {\n",
              "        action: 'continue',\n",
              "      }\n",
              "    };\n",
              "\n",
              "    // Use a chunked sending to avoid message size limits. See b/62115660.\n",
              "    let position = 0;\n",
              "    do {\n",
              "      const length = Math.min(fileData.byteLength - position, MAX_PAYLOAD_SIZE);\n",
              "      const chunk = new Uint8Array(fileData, position, length);\n",
              "      position += length;\n",
              "\n",
              "      const base64 = btoa(String.fromCharCode.apply(null, chunk));\n",
              "      yield {\n",
              "        response: {\n",
              "          action: 'append',\n",
              "          file: file.name,\n",
              "          data: base64,\n",
              "        },\n",
              "      };\n",
              "\n",
              "      let percentDone = fileData.byteLength === 0 ?\n",
              "          100 :\n",
              "          Math.round((position / fileData.byteLength) * 100);\n",
              "      percent.textContent = `${percentDone}% done`;\n",
              "\n",
              "    } while (position < fileData.byteLength);\n",
              "  }\n",
              "\n",
              "  // All done.\n",
              "  yield {\n",
              "    response: {\n",
              "      action: 'complete',\n",
              "    }\n",
              "  };\n",
              "}\n",
              "\n",
              "scope.google = scope.google || {};\n",
              "scope.google.colab = scope.google.colab || {};\n",
              "scope.google.colab._files = {\n",
              "  _uploadFiles,\n",
              "  _uploadFilesContinue,\n",
              "};\n",
              "})(self);\n",
              "</script> "
            ]
          },
          "metadata": {}
        },
        {
          "output_type": "stream",
          "name": "stdout",
          "text": [
            "Saving Updated_Datasettt.csv to Updated_Datasettt.csv\n"
          ]
        }
      ]
    },
    {
      "cell_type": "code",
      "source": [
        "import pandas as pd\n",
        "\n",
        "# Load dataset from a local CSV file\n",
        "df = pd.read_csv('Updated_Datasettt.csv')\n",
        "\n",
        "# Check the data\n",
        "df.head()\n"
      ],
      "metadata": {
        "colab": {
          "base_uri": "https://localhost:8080/",
          "height": 206
        },
        "id": "_VIJb6d11Iht",
        "outputId": "150c792c-8875-476d-e421-3886709c4397"
      },
      "execution_count": null,
      "outputs": [
        {
          "output_type": "execute_result",
          "data": {
            "text/plain": [
              "      Industry Name   Latitude   Longitude      Industry Type  \\\n",
              "0       Global Corp -86.295922  -32.438666  Pipeline Terminal   \n",
              "1  Energy Resources -42.631386  -44.990412          Gas Plant   \n",
              "2   Industrial Corp  70.979944  178.757830          Gas Plant   \n",
              "3    Industrial Oil  87.732153   79.392150            Oil Rig   \n",
              "4  Trans Industries -41.124096 -161.159867  Pipeline Terminal   \n",
              "\n",
              "  Risk Category/Level Hazardous Material Storage  \\\n",
              "0              Medium                         No   \n",
              "1                High                        Yes   \n",
              "2              Medium                        Yes   \n",
              "3              Medium                        Yes   \n",
              "4                High                        Yes   \n",
              "\n",
              "                                        Gases  \n",
              "0                    Methane, Ethane, Propane  \n",
              "1   Methane, Hydrogen Sulfide, Carbon Dioxide  \n",
              "2   Methane, Hydrogen Sulfide, Carbon Dioxide  \n",
              "3  Hydrogen Sulfide, Methane, Carbon Monoxide  \n",
              "4                    Methane, Ethane, Propane  "
            ],
            "text/html": [
              "\n",
              "  <div id=\"df-3bd1af91-c0a7-405f-8b07-0fe7f08d76a2\" class=\"colab-df-container\">\n",
              "    <div>\n",
              "<style scoped>\n",
              "    .dataframe tbody tr th:only-of-type {\n",
              "        vertical-align: middle;\n",
              "    }\n",
              "\n",
              "    .dataframe tbody tr th {\n",
              "        vertical-align: top;\n",
              "    }\n",
              "\n",
              "    .dataframe thead th {\n",
              "        text-align: right;\n",
              "    }\n",
              "</style>\n",
              "<table border=\"1\" class=\"dataframe\">\n",
              "  <thead>\n",
              "    <tr style=\"text-align: right;\">\n",
              "      <th></th>\n",
              "      <th>Industry Name</th>\n",
              "      <th>Latitude</th>\n",
              "      <th>Longitude</th>\n",
              "      <th>Industry Type</th>\n",
              "      <th>Risk Category/Level</th>\n",
              "      <th>Hazardous Material Storage</th>\n",
              "      <th>Gases</th>\n",
              "    </tr>\n",
              "  </thead>\n",
              "  <tbody>\n",
              "    <tr>\n",
              "      <th>0</th>\n",
              "      <td>Global Corp</td>\n",
              "      <td>-86.295922</td>\n",
              "      <td>-32.438666</td>\n",
              "      <td>Pipeline Terminal</td>\n",
              "      <td>Medium</td>\n",
              "      <td>No</td>\n",
              "      <td>Methane, Ethane, Propane</td>\n",
              "    </tr>\n",
              "    <tr>\n",
              "      <th>1</th>\n",
              "      <td>Energy Resources</td>\n",
              "      <td>-42.631386</td>\n",
              "      <td>-44.990412</td>\n",
              "      <td>Gas Plant</td>\n",
              "      <td>High</td>\n",
              "      <td>Yes</td>\n",
              "      <td>Methane, Hydrogen Sulfide, Carbon Dioxide</td>\n",
              "    </tr>\n",
              "    <tr>\n",
              "      <th>2</th>\n",
              "      <td>Industrial Corp</td>\n",
              "      <td>70.979944</td>\n",
              "      <td>178.757830</td>\n",
              "      <td>Gas Plant</td>\n",
              "      <td>Medium</td>\n",
              "      <td>Yes</td>\n",
              "      <td>Methane, Hydrogen Sulfide, Carbon Dioxide</td>\n",
              "    </tr>\n",
              "    <tr>\n",
              "      <th>3</th>\n",
              "      <td>Industrial Oil</td>\n",
              "      <td>87.732153</td>\n",
              "      <td>79.392150</td>\n",
              "      <td>Oil Rig</td>\n",
              "      <td>Medium</td>\n",
              "      <td>Yes</td>\n",
              "      <td>Hydrogen Sulfide, Methane, Carbon Monoxide</td>\n",
              "    </tr>\n",
              "    <tr>\n",
              "      <th>4</th>\n",
              "      <td>Trans Industries</td>\n",
              "      <td>-41.124096</td>\n",
              "      <td>-161.159867</td>\n",
              "      <td>Pipeline Terminal</td>\n",
              "      <td>High</td>\n",
              "      <td>Yes</td>\n",
              "      <td>Methane, Ethane, Propane</td>\n",
              "    </tr>\n",
              "  </tbody>\n",
              "</table>\n",
              "</div>\n",
              "    <div class=\"colab-df-buttons\">\n",
              "\n",
              "  <div class=\"colab-df-container\">\n",
              "    <button class=\"colab-df-convert\" onclick=\"convertToInteractive('df-3bd1af91-c0a7-405f-8b07-0fe7f08d76a2')\"\n",
              "            title=\"Convert this dataframe to an interactive table.\"\n",
              "            style=\"display:none;\">\n",
              "\n",
              "  <svg xmlns=\"http://www.w3.org/2000/svg\" height=\"24px\" viewBox=\"0 -960 960 960\">\n",
              "    <path d=\"M120-120v-720h720v720H120Zm60-500h600v-160H180v160Zm220 220h160v-160H400v160Zm0 220h160v-160H400v160ZM180-400h160v-160H180v160Zm440 0h160v-160H620v160ZM180-180h160v-160H180v160Zm440 0h160v-160H620v160Z\"/>\n",
              "  </svg>\n",
              "    </button>\n",
              "\n",
              "  <style>\n",
              "    .colab-df-container {\n",
              "      display:flex;\n",
              "      gap: 12px;\n",
              "    }\n",
              "\n",
              "    .colab-df-convert {\n",
              "      background-color: #E8F0FE;\n",
              "      border: none;\n",
              "      border-radius: 50%;\n",
              "      cursor: pointer;\n",
              "      display: none;\n",
              "      fill: #1967D2;\n",
              "      height: 32px;\n",
              "      padding: 0 0 0 0;\n",
              "      width: 32px;\n",
              "    }\n",
              "\n",
              "    .colab-df-convert:hover {\n",
              "      background-color: #E2EBFA;\n",
              "      box-shadow: 0px 1px 2px rgba(60, 64, 67, 0.3), 0px 1px 3px 1px rgba(60, 64, 67, 0.15);\n",
              "      fill: #174EA6;\n",
              "    }\n",
              "\n",
              "    .colab-df-buttons div {\n",
              "      margin-bottom: 4px;\n",
              "    }\n",
              "\n",
              "    [theme=dark] .colab-df-convert {\n",
              "      background-color: #3B4455;\n",
              "      fill: #D2E3FC;\n",
              "    }\n",
              "\n",
              "    [theme=dark] .colab-df-convert:hover {\n",
              "      background-color: #434B5C;\n",
              "      box-shadow: 0px 1px 3px 1px rgba(0, 0, 0, 0.15);\n",
              "      filter: drop-shadow(0px 1px 2px rgba(0, 0, 0, 0.3));\n",
              "      fill: #FFFFFF;\n",
              "    }\n",
              "  </style>\n",
              "\n",
              "    <script>\n",
              "      const buttonEl =\n",
              "        document.querySelector('#df-3bd1af91-c0a7-405f-8b07-0fe7f08d76a2 button.colab-df-convert');\n",
              "      buttonEl.style.display =\n",
              "        google.colab.kernel.accessAllowed ? 'block' : 'none';\n",
              "\n",
              "      async function convertToInteractive(key) {\n",
              "        const element = document.querySelector('#df-3bd1af91-c0a7-405f-8b07-0fe7f08d76a2');\n",
              "        const dataTable =\n",
              "          await google.colab.kernel.invokeFunction('convertToInteractive',\n",
              "                                                    [key], {});\n",
              "        if (!dataTable) return;\n",
              "\n",
              "        const docLinkHtml = 'Like what you see? Visit the ' +\n",
              "          '<a target=\"_blank\" href=https://colab.research.google.com/notebooks/data_table.ipynb>data table notebook</a>'\n",
              "          + ' to learn more about interactive tables.';\n",
              "        element.innerHTML = '';\n",
              "        dataTable['output_type'] = 'display_data';\n",
              "        await google.colab.output.renderOutput(dataTable, element);\n",
              "        const docLink = document.createElement('div');\n",
              "        docLink.innerHTML = docLinkHtml;\n",
              "        element.appendChild(docLink);\n",
              "      }\n",
              "    </script>\n",
              "  </div>\n",
              "\n",
              "\n",
              "<div id=\"df-856d410c-517d-4d6a-be0b-cce74ecbde14\">\n",
              "  <button class=\"colab-df-quickchart\" onclick=\"quickchart('df-856d410c-517d-4d6a-be0b-cce74ecbde14')\"\n",
              "            title=\"Suggest charts\"\n",
              "            style=\"display:none;\">\n",
              "\n",
              "<svg xmlns=\"http://www.w3.org/2000/svg\" height=\"24px\"viewBox=\"0 0 24 24\"\n",
              "     width=\"24px\">\n",
              "    <g>\n",
              "        <path d=\"M19 3H5c-1.1 0-2 .9-2 2v14c0 1.1.9 2 2 2h14c1.1 0 2-.9 2-2V5c0-1.1-.9-2-2-2zM9 17H7v-7h2v7zm4 0h-2V7h2v10zm4 0h-2v-4h2v4z\"/>\n",
              "    </g>\n",
              "</svg>\n",
              "  </button>\n",
              "\n",
              "<style>\n",
              "  .colab-df-quickchart {\n",
              "      --bg-color: #E8F0FE;\n",
              "      --fill-color: #1967D2;\n",
              "      --hover-bg-color: #E2EBFA;\n",
              "      --hover-fill-color: #174EA6;\n",
              "      --disabled-fill-color: #AAA;\n",
              "      --disabled-bg-color: #DDD;\n",
              "  }\n",
              "\n",
              "  [theme=dark] .colab-df-quickchart {\n",
              "      --bg-color: #3B4455;\n",
              "      --fill-color: #D2E3FC;\n",
              "      --hover-bg-color: #434B5C;\n",
              "      --hover-fill-color: #FFFFFF;\n",
              "      --disabled-bg-color: #3B4455;\n",
              "      --disabled-fill-color: #666;\n",
              "  }\n",
              "\n",
              "  .colab-df-quickchart {\n",
              "    background-color: var(--bg-color);\n",
              "    border: none;\n",
              "    border-radius: 50%;\n",
              "    cursor: pointer;\n",
              "    display: none;\n",
              "    fill: var(--fill-color);\n",
              "    height: 32px;\n",
              "    padding: 0;\n",
              "    width: 32px;\n",
              "  }\n",
              "\n",
              "  .colab-df-quickchart:hover {\n",
              "    background-color: var(--hover-bg-color);\n",
              "    box-shadow: 0 1px 2px rgba(60, 64, 67, 0.3), 0 1px 3px 1px rgba(60, 64, 67, 0.15);\n",
              "    fill: var(--button-hover-fill-color);\n",
              "  }\n",
              "\n",
              "  .colab-df-quickchart-complete:disabled,\n",
              "  .colab-df-quickchart-complete:disabled:hover {\n",
              "    background-color: var(--disabled-bg-color);\n",
              "    fill: var(--disabled-fill-color);\n",
              "    box-shadow: none;\n",
              "  }\n",
              "\n",
              "  .colab-df-spinner {\n",
              "    border: 2px solid var(--fill-color);\n",
              "    border-color: transparent;\n",
              "    border-bottom-color: var(--fill-color);\n",
              "    animation:\n",
              "      spin 1s steps(1) infinite;\n",
              "  }\n",
              "\n",
              "  @keyframes spin {\n",
              "    0% {\n",
              "      border-color: transparent;\n",
              "      border-bottom-color: var(--fill-color);\n",
              "      border-left-color: var(--fill-color);\n",
              "    }\n",
              "    20% {\n",
              "      border-color: transparent;\n",
              "      border-left-color: var(--fill-color);\n",
              "      border-top-color: var(--fill-color);\n",
              "    }\n",
              "    30% {\n",
              "      border-color: transparent;\n",
              "      border-left-color: var(--fill-color);\n",
              "      border-top-color: var(--fill-color);\n",
              "      border-right-color: var(--fill-color);\n",
              "    }\n",
              "    40% {\n",
              "      border-color: transparent;\n",
              "      border-right-color: var(--fill-color);\n",
              "      border-top-color: var(--fill-color);\n",
              "    }\n",
              "    60% {\n",
              "      border-color: transparent;\n",
              "      border-right-color: var(--fill-color);\n",
              "    }\n",
              "    80% {\n",
              "      border-color: transparent;\n",
              "      border-right-color: var(--fill-color);\n",
              "      border-bottom-color: var(--fill-color);\n",
              "    }\n",
              "    90% {\n",
              "      border-color: transparent;\n",
              "      border-bottom-color: var(--fill-color);\n",
              "    }\n",
              "  }\n",
              "</style>\n",
              "\n",
              "  <script>\n",
              "    async function quickchart(key) {\n",
              "      const quickchartButtonEl =\n",
              "        document.querySelector('#' + key + ' button');\n",
              "      quickchartButtonEl.disabled = true;  // To prevent multiple clicks.\n",
              "      quickchartButtonEl.classList.add('colab-df-spinner');\n",
              "      try {\n",
              "        const charts = await google.colab.kernel.invokeFunction(\n",
              "            'suggestCharts', [key], {});\n",
              "      } catch (error) {\n",
              "        console.error('Error during call to suggestCharts:', error);\n",
              "      }\n",
              "      quickchartButtonEl.classList.remove('colab-df-spinner');\n",
              "      quickchartButtonEl.classList.add('colab-df-quickchart-complete');\n",
              "    }\n",
              "    (() => {\n",
              "      let quickchartButtonEl =\n",
              "        document.querySelector('#df-856d410c-517d-4d6a-be0b-cce74ecbde14 button');\n",
              "      quickchartButtonEl.style.display =\n",
              "        google.colab.kernel.accessAllowed ? 'block' : 'none';\n",
              "    })();\n",
              "  </script>\n",
              "</div>\n",
              "\n",
              "    </div>\n",
              "  </div>\n"
            ],
            "application/vnd.google.colaboratory.intrinsic+json": {
              "type": "dataframe",
              "variable_name": "df",
              "summary": "{\n  \"name\": \"df\",\n  \"rows\": 1000,\n  \"fields\": [\n    {\n      \"column\": \"Industry Name\",\n      \"properties\": {\n        \"dtype\": \"category\",\n        \"num_unique_values\": 25,\n        \"samples\": [\n          \"Global Ltd\",\n          \"Industrial Resources\",\n          \"Global Corp\"\n        ],\n        \"semantic_type\": \"\",\n        \"description\": \"\"\n      }\n    },\n    {\n      \"column\": \"Latitude\",\n      \"properties\": {\n        \"dtype\": \"number\",\n        \"std\": 53.1175084293644,\n        \"min\": -89.800585,\n        \"max\": 89.866322,\n        \"num_unique_values\": 1000,\n        \"samples\": [\n          -52.711139,\n          55.790031,\n          -26.807156\n        ],\n        \"semantic_type\": \"\",\n        \"description\": \"\"\n      }\n    },\n    {\n      \"column\": \"Longitude\",\n      \"properties\": {\n        \"dtype\": \"number\",\n        \"std\": 105.28035198664178,\n        \"min\": -179.84516,\n        \"max\": 179.319965,\n        \"num_unique_values\": 1000,\n        \"samples\": [\n          -141.866407,\n          -75.542301,\n          -170.505774\n        ],\n        \"semantic_type\": \"\",\n        \"description\": \"\"\n      }\n    },\n    {\n      \"column\": \"Industry Type\",\n      \"properties\": {\n        \"dtype\": \"category\",\n        \"num_unique_values\": 5,\n        \"samples\": [\n          \"Gas Plant\",\n          \"Refinery\",\n          \"Oil Rig\"\n        ],\n        \"semantic_type\": \"\",\n        \"description\": \"\"\n      }\n    },\n    {\n      \"column\": \"Risk Category/Level\",\n      \"properties\": {\n        \"dtype\": \"category\",\n        \"num_unique_values\": 3,\n        \"samples\": [\n          \"Medium\",\n          \"High\",\n          \"Low\"\n        ],\n        \"semantic_type\": \"\",\n        \"description\": \"\"\n      }\n    },\n    {\n      \"column\": \"Hazardous Material Storage\",\n      \"properties\": {\n        \"dtype\": \"category\",\n        \"num_unique_values\": 2,\n        \"samples\": [\n          \"Yes\",\n          \"No\"\n        ],\n        \"semantic_type\": \"\",\n        \"description\": \"\"\n      }\n    },\n    {\n      \"column\": \"Gases\",\n      \"properties\": {\n        \"dtype\": \"category\",\n        \"num_unique_values\": 5,\n        \"samples\": [\n          \"Methane, Hydrogen Sulfide, Carbon Dioxide\",\n          \"Sulfur Dioxide, Nitrogen Oxides, Volatile Organic Compounds\"\n        ],\n        \"semantic_type\": \"\",\n        \"description\": \"\"\n      }\n    }\n  ]\n}"
            }
          },
          "metadata": {},
          "execution_count": 5
        }
      ]
    },
    {
      "cell_type": "code",
      "source": [
        "# Select row by index\n",
        "n=int(input(\"Enter the Number\"))\n",
        "selected_row = df.iloc[n]\n",
        "#Name=input(\"Search by Industry name\")\n",
        "#selected_row = df[df['Industry Name'] == Name]\n",
        "\n",
        "lat = selected_row['Latitude']\n",
        "lon = selected_row['Longitude']\n",
        "\n",
        "# Now proceed with your weather API call and other calculations\n",
        "url = f'https://api.openweathermap.org/data/2.5/weather?lat={lat}&lon={lon}&appid={WEATHER_API_KEY}'\n"
      ],
      "metadata": {
        "id": "HguESvrn1a3c",
        "colab": {
          "base_uri": "https://localhost:8080/"
        },
        "outputId": "d0bc1c13-1598-4c83-a943-2e0db1c73cc7"
      },
      "execution_count": null,
      "outputs": [
        {
          "name": "stdout",
          "output_type": "stream",
          "text": [
            "Enter the Number4\n"
          ]
        }
      ]
    },
    {
      "cell_type": "markdown",
      "source": [
        "'https://api.openweathermap.org/data/2.5/weather?lat={lat}&lon={lon}&appid={API key}'"
      ],
      "metadata": {
        "id": "mNrasIk5vncU"
      }
    },
    {
      "cell_type": "code",
      "source": [
        "response = requests.get(url)"
      ],
      "metadata": {
        "id": "br9PWbPk1slz"
      },
      "execution_count": null,
      "outputs": []
    },
    {
      "cell_type": "code",
      "source": [
        "wind_speed = response.json()['wind']['speed']\n",
        "weather = response.json()['weather'][0]\n",
        "sunset_time = response.json()['sys']['sunset']\n",
        "sunrise_time = response.json()['sys']['sunrise']\n",
        "cloud_cover = response.json()['clouds']['all']"
      ],
      "metadata": {
        "id": "9CE9p_F11xVR"
      },
      "execution_count": null,
      "outputs": []
    },
    {
      "cell_type": "markdown",
      "source": [
        "Insolation: \\begin{align}\n",
        "        Q = S (\\frac{r}{r_0})^2 \\cos θ_0\n",
        "    \\end{align}\n",
        "\n",
        "Q is the daytime insolation (in watts per square meter)\n",
        "\n",
        "S is the solar constant (1361 watts per square meter)\n",
        "\n",
        "r is the Earth's distance from the Sun (in meters)\n",
        "\n",
        "ro is the Earth's mean distance from the Sun (149.6 million meters)\n",
        "\n",
        " is the solar zenith angle (the angle between the sun's rays and the vertical)"
      ],
      "metadata": {
        "id": "n8jqFpHxwgVj"
      }
    },
    {
      "cell_type": "markdown",
      "source": [
        "\\begin{align}\n",
        "r = r_0 (1 + 0.0167 \\cos(360 * \\frac{d-3}{365}))\n",
        "\\end{align}\n",
        "d is the number of days since January 1st\n",
        "\\begin{align}\n",
        "θ_0 = \\arccos( \\sin (latitude) * \\sin (\\delta) + \\cos(latitude) * \\cos (\\delta)  * \\cos (hour angle) )\n",
        "\\end{align}\n",
        "\n",
        "\n",
        "\\begin{align}\n",
        "hourangle = (time of day in hours - 12) * 15°\n",
        "\\end{align}\n",
        "\\begin{align}\n",
        "\\delta = 23.45° * \\sin(360° * \\frac{N - 81}{365})\n",
        "\\end{align}\n",
        "N is the day of the year (1-365)\n",
        "\n"
      ],
      "metadata": {
        "id": "5NRg56b2B5O-"
      }
    },
    {
      "cell_type": "markdown",
      "source": [
        "Strong > 100\n",
        "\n",
        "Moderate 50-100\n",
        "\n",
        "Slight < 50"
      ],
      "metadata": {
        "id": "arxV5870wWnK"
      }
    },
    {
      "cell_type": "code",
      "source": [
        "from datetime import date, datetime\n",
        "\n",
        "today = date.today()"
      ],
      "metadata": {
        "id": "U2LWrq9g127N"
      },
      "execution_count": null,
      "outputs": []
    },
    {
      "cell_type": "code",
      "source": [
        "N = pd.Period(today, freq='D').dayofyear\n",
        "delta = 23.45 * np.sin(np.deg2rad(360 * (N-81) / 365))\n",
        "timeofdayinhrs = datetime.now().hour\n",
        "hourangle = (timeofdayinhrs - 12) * 15\n",
        "theta_not = np.arccos(np.sin(lat) * np.sin(delta) + np.cos(lat) * np.cos(delta) * np.cos(hourangle))\n",
        "d = (date.today() - date(date.today().year,1,1)).days\n",
        "r_by_r0 = (1 + 0.0167*np.cos(360*(d-3)/365))"
      ],
      "metadata": {
        "id": "wOEyavce16rm"
      },
      "execution_count": null,
      "outputs": []
    },
    {
      "cell_type": "code",
      "source": [
        "Q = 1361 * r_by_r0**2 * np.cos(theta_not)\n",
        "#Q is Insolation\n"
      ],
      "metadata": {
        "id": "bMMQcYdi196K"
      },
      "execution_count": null,
      "outputs": []
    },
    {
      "cell_type": "code",
      "source": [
        "daytime_insolation_class = ''\n",
        "\n",
        "if Q > 100:\n",
        "    daytime_insolation_class = 'strong'\n",
        "elif Q > 50 and Q <= 100:\n",
        "    daytime_insolation_class = 'moderate'\n",
        "else:\n",
        "    daytime_insolation_class = 'slight'"
      ],
      "metadata": {
        "id": "4a7wHaih2B6O"
      },
      "execution_count": null,
      "outputs": []
    },
    {
      "cell_type": "code",
      "source": [
        "Q, daytime_insolation_class\n"
      ],
      "metadata": {
        "colab": {
          "base_uri": "https://localhost:8080/"
        },
        "id": "k9vxeBTz2Dkb",
        "outputId": "b1704082-1415-4365-fefd-c920b5bdd74d"
      },
      "execution_count": null,
      "outputs": [
        {
          "output_type": "execute_result",
          "data": {
            "text/plain": [
              "(1044.0000634387964, 'strong')"
            ]
          },
          "metadata": {},
          "execution_count": 13
        }
      ]
    },
    {
      "cell_type": "markdown",
      "source": [
        "Nighttime Conditions"
      ],
      "metadata": {
        "id": "rNUbV0hqv_D6"
      }
    },
    {
      "cell_type": "code",
      "source": [
        "nighttime_cond = ''\n",
        "if cloud_cover >= 80:\n",
        "    nighttime_cond = 'overcast'\n",
        "else:\n",
        "    nighttime_cond = 'not overcast'"
      ],
      "metadata": {
        "id": "Yq8bodvc2G0x"
      },
      "execution_count": null,
      "outputs": []
    },
    {
      "cell_type": "code",
      "source": [
        "cloud_cover, nighttime_cond\n"
      ],
      "metadata": {
        "colab": {
          "base_uri": "https://localhost:8080/"
        },
        "id": "bexCHDH22Nqj",
        "outputId": "a83f729b-d14b-4cac-d38f-75fadc47a8b5"
      },
      "execution_count": null,
      "outputs": [
        {
          "output_type": "execute_result",
          "data": {
            "text/plain": [
              "(27, 'not overcast')"
            ]
          },
          "metadata": {},
          "execution_count": 15
        }
      ]
    },
    {
      "cell_type": "code",
      "source": [
        "datetime.utcfromtimestamp(sunrise_time).hour\n"
      ],
      "metadata": {
        "colab": {
          "base_uri": "https://localhost:8080/"
        },
        "id": "Vxoj72fd2TUp",
        "outputId": "652aeb7d-1ec2-47a3-a1e4-289f3299f6dd"
      },
      "execution_count": null,
      "outputs": [
        {
          "output_type": "execute_result",
          "data": {
            "text/plain": [
              "15"
            ]
          },
          "metadata": {},
          "execution_count": 17
        }
      ]
    },
    {
      "cell_type": "code",
      "source": [
        "if datetime.now().hour >= datetime.utcfromtimestamp(sunrise_time).hour + 1 and datetime.now().hour <= datetime.utcfromtimestamp(sunset_time).hour - 1:\n",
        "    if wind_speed < 2:\n",
        "        if daytime_insolation_class == 'strong':\n",
        "            stability_class = 'A'\n",
        "        elif daytime_insolation_class == 'moderate':\n",
        "            stability_class = 'B'\n",
        "        else:\n",
        "            stability_class = 'B'\n",
        "    if wind_speed >= 2 and wind_speed < 3:\n",
        "        if daytime_insolation_class == 'strong':\n",
        "            stability_class = 'B'\n",
        "        elif daytime_insolation_class == 'moderate':\n",
        "            stability_class = 'B'\n",
        "        else:\n",
        "            stability_class = 'C'\n",
        "    if wind_speed >= 3 and wind_speed < 4:\n",
        "        if daytime_insolation_class == 'strong':\n",
        "            stability_class = 'B'\n",
        "        elif daytime_insolation_class == 'moderate':\n",
        "            stability_class = 'C'\n",
        "        else:\n",
        "            stability_class = 'C'\n",
        "    if wind_speed >= 4 and wind_speed < 6:\n",
        "        if daytime_insolation_class == 'strong':\n",
        "            stability_class = 'C'\n",
        "        elif daytime_insolation_class == 'moderate':\n",
        "            stability_class = 'D'\n",
        "        else:\n",
        "            stability_class = 'D'\n",
        "    if wind_speed >= 6:\n",
        "        if daytime_insolation_class == 'strong':\n",
        "            stability_class = 'C'\n",
        "        elif daytime_insolation_class == 'moderate':\n",
        "            stability_class = 'D'\n",
        "        else:\n",
        "            stability_class = 'D'\n",
        "else:\n",
        "    if wind_speed < 2:\n",
        "        stability_class = 'F'\n",
        "    if wind_speed >= 2 and wind_speed < 3:\n",
        "        if nighttime_cond == 'overcast':\n",
        "            stability_class = 'F'\n",
        "        else:\n",
        "            stability_class = 'E'\n",
        "    if wind_speed >= 3 and wind_speed < 4:\n",
        "        if nighttime_cond == 'overcast':\n",
        "            stability_class = 'E'\n",
        "        else:\n",
        "            stability_class = 'D'\n",
        "    if wind_speed >= 4 and wind_speed < 6:\n",
        "        stability_class = 'D'\n",
        "    if wind_speed >= 6:\n",
        "        stability_class = 'D'"
      ],
      "metadata": {
        "id": "9Eq1l4B32XaW"
      },
      "execution_count": null,
      "outputs": []
    },
    {
      "cell_type": "code",
      "source": [
        "stability_class\n"
      ],
      "metadata": {
        "colab": {
          "base_uri": "https://localhost:8080/",
          "height": 35
        },
        "id": "SDsYVr4z2bQn",
        "outputId": "bb0e4916-b0f4-4392-daba-0509a2a17eb3"
      },
      "execution_count": null,
      "outputs": [
        {
          "output_type": "execute_result",
          "data": {
            "text/plain": [
              "'D'"
            ],
            "application/vnd.google.colaboratory.intrinsic+json": {
              "type": "string"
            }
          },
          "metadata": {},
          "execution_count": 19
        }
      ]
    },
    {
      "cell_type": "markdown",
      "source": [
        "\n",
        "determining r"
      ],
      "metadata": {
        "id": "BY8KM6SvwF47"
      }
    },
    {
      "cell_type": "code",
      "source": [
        "E_tnt = 4686 # kJ/kg\n",
        "m = 1 # kg => needed to be determined from plant data (may be database or sensor)\n",
        "eta = 0.15 # explosion efficiency => needed to be estimated but took the worst case where the range would be max.\n",
        "delHc = 0\n",
        "pa = 0  # kPa\n",
        "po = 0     # peak side-on overpressure value from sensor or database (example)\n",
        "if pa != 0:\n",
        "    ps = po / pa\n",
        "else:\n",
        "    ps = float('inf')  # or handle it appropriately, maybe assign a default value\n"
      ],
      "metadata": {
        "id": "dzRMlR7r2eyF"
      },
      "execution_count": null,
      "outputs": []
    },
    {
      "cell_type": "markdown",
      "source": [
        "Puff model"
      ],
      "metadata": {
        "id": "JgSv9TBNwN8Y"
      }
    },
    {
      "cell_type": "code",
      "source": [
        "m_tnt = (eta*m*delHc)/E_tnt\n",
        "ze = (ps/16.2499)**(-1/1.8093) # m/kg^(1/3)\n",
        "r = ze*(m_tnt**(1/3))"
      ],
      "metadata": {
        "id": "kqS_QZSE3IcT"
      },
      "execution_count": null,
      "outputs": []
    },
    {
      "cell_type": "markdown",
      "source": [
        "**Gas Classification**"
      ],
      "metadata": {
        "id": "PY6DTeYr2WFZ"
      }
    },
    {
      "cell_type": "code",
      "source": [
        "import pandas as pd\n",
        "from sklearn.preprocessing import StandardScaler\n",
        "from sklearn.ensemble import RandomForestClassifier\n",
        "from sklearn.metrics import classification_report, accuracy_score\n",
        "\n",
        "df_new = pd.read_csv('Updated_Datasettt.csv')\n",
        "\n",
        "N =   int(input(\"Enter the row\"))\n",
        "\n",
        "selected_row = df_new.iloc[[N]]\n",
        "\n",
        "if 'Gases' in selected_row.columns and isinstance(selected_row['Gases'].iloc[0], str):\n",
        "    selected_row['Gases'] = selected_row['Gases'].fillna('Unknown')\n",
        "    df_gases = selected_row['Gases'].str.get_dummies(sep=', ')\n",
        "else:\n",
        "    df_gases = pd.DataFrame()\n",
        "\n",
        "if df_gases.empty:\n",
        "    df_gases = pd.DataFrame(columns=['Gases_Unknown'])\n",
        "\n",
        "selected_row['Explosion_Risk'] = selected_row['Risk Category/Level'].apply(lambda x: 1 if x == 'High' else 0)\n",
        "\n",
        "df_processed = pd.concat([df_gases, selected_row['Explosion_Risk']], axis=1)\n",
        "\n",
        "X = df_processed.drop('Explosion_Risk', axis=1)\n",
        "y = df_processed['Explosion_Risk']\n",
        "\n",
        "scaler = StandardScaler()\n",
        "X_scaled = scaler.fit_transform(X)\n",
        "\n",
        "clf = RandomForestClassifier(random_state=42)\n",
        "clf.fit(X_scaled, y)\n",
        "\n",
        "# Prediction and reporting\n",
        "y_pred = clf.predict(X_scaled)\n",
        "report = classification_report(y, y_pred, zero_division=0)\n",
        "accuracy = accuracy_score(y, y_pred)\n",
        "\n",
        "print(\"Classification Report:\\n\", report)\n",
        "print(\"Accuracy:\", accuracy)\n"
      ],
      "metadata": {
        "colab": {
          "base_uri": "https://localhost:8080/"
        },
        "id": "9BjyjMTDGHtB",
        "outputId": "b84f6304-673f-4c2b-a450-6949ffe9fe7a"
      },
      "execution_count": null,
      "outputs": [
        {
          "output_type": "stream",
          "name": "stdout",
          "text": [
            "Enter the row4\n",
            "Classification Report:\n",
            "               precision    recall  f1-score   support\n",
            "\n",
            "           1       1.00      1.00      1.00         1\n",
            "\n",
            "    accuracy                           1.00         1\n",
            "   macro avg       1.00      1.00      1.00         1\n",
            "weighted avg       1.00      1.00      1.00         1\n",
            "\n",
            "Accuracy: 1.0\n"
          ]
        },
        {
          "output_type": "stream",
          "name": "stderr",
          "text": [
            "<ipython-input-22-5a3e8aea6b43>:13: SettingWithCopyWarning: \n",
            "A value is trying to be set on a copy of a slice from a DataFrame.\n",
            "Try using .loc[row_indexer,col_indexer] = value instead\n",
            "\n",
            "See the caveats in the documentation: https://pandas.pydata.org/pandas-docs/stable/user_guide/indexing.html#returning-a-view-versus-a-copy\n",
            "  selected_row['Gases'] = selected_row['Gases'].fillna('Unknown')\n",
            "<ipython-input-22-5a3e8aea6b43>:21: SettingWithCopyWarning: \n",
            "A value is trying to be set on a copy of a slice from a DataFrame.\n",
            "Try using .loc[row_indexer,col_indexer] = value instead\n",
            "\n",
            "See the caveats in the documentation: https://pandas.pydata.org/pandas-docs/stable/user_guide/indexing.html#returning-a-view-versus-a-copy\n",
            "  selected_row['Explosion_Risk'] = selected_row['Risk Category/Level'].apply(lambda x: 1 if x == 'High' else 0)\n"
          ]
        }
      ]
    }
  ]
}